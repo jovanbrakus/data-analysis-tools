{
 "cells": [
  {
   "cell_type": "markdown",
   "metadata": {},
   "source": [
    "# Data analysis tools"
   ]
  },
  {
   "cell_type": "markdown",
   "metadata": {},
   "source": [
    "For Week 1 assignment I'm checking correlation between race and amphetamines using the NESARC data\n",
    "\n",
    "N0 hypothesis - there is no difference in alcohol usage between races.\n",
    "\n",
    "Na hypothesis - there is difference in alcohol usage between races\n",
    "\n"
   ]
  },
  {
   "cell_type": "code",
   "execution_count": 10,
   "metadata": {
    "collapsed": false,
    "scrolled": false
   },
   "outputs": [
    {
     "name": "stderr",
     "output_type": "stream",
     "text": [
      "/usr/local/lib/python2.7/site-packages/ipykernel/__main__.py:13: FutureWarning: convert_objects is deprecated.  Use the data-type specific converters pd.to_datetime, pd.to_timedelta and pd.to_numeric.\n",
      "/usr/local/lib/python2.7/site-packages/ipykernel/__main__.py:14: FutureWarning: convert_objects is deprecated.  Use the data-type specific converters pd.to_datetime, pd.to_timedelta and pd.to_numeric.\n",
      "/usr/local/lib/python2.7/site-packages/ipykernel/__main__.py:15: FutureWarning: convert_objects is deprecated.  Use the data-type specific converters pd.to_datetime, pd.to_timedelta and pd.to_numeric.\n",
      "/usr/local/lib/python2.7/site-packages/ipykernel/__main__.py:20: SettingWithCopyWarning: \n",
      "A value is trying to be set on a copy of a slice from a DataFrame.\n",
      "Try using .loc[row_indexer,col_indexer] = value instead\n",
      "\n",
      "See the caveats in the documentation: http://pandas.pydata.org/pandas-docs/stable/indexing.html#indexing-view-versus-copy\n",
      "/usr/local/lib/python2.7/site-packages/ipykernel/__main__.py:21: SettingWithCopyWarning: \n",
      "A value is trying to be set on a copy of a slice from a DataFrame.\n",
      "Try using .loc[row_indexer,col_indexer] = value instead\n",
      "\n",
      "See the caveats in the documentation: http://pandas.pydata.org/pandas-docs/stable/indexing.html#indexing-view-versus-copy\n",
      "/usr/local/lib/python2.7/site-packages/ipykernel/__main__.py:36: SettingWithCopyWarning: \n",
      "A value is trying to be set on a copy of a slice from a DataFrame.\n",
      "Try using .loc[row_indexer,col_indexer] = value instead\n",
      "\n",
      "See the caveats in the documentation: http://pandas.pydata.org/pandas-docs/stable/indexing.html#indexing-view-versus-copy\n",
      "/usr/local/lib/python2.7/site-packages/ipykernel/__main__.py:39: FutureWarning: convert_objects is deprecated.  Use the data-type specific converters pd.to_datetime, pd.to_timedelta and pd.to_numeric.\n",
      "/usr/local/lib/python2.7/site-packages/ipykernel/__main__.py:39: SettingWithCopyWarning: \n",
      "A value is trying to be set on a copy of a slice from a DataFrame.\n",
      "Try using .loc[row_indexer,col_indexer] = value instead\n",
      "\n",
      "See the caveats in the documentation: http://pandas.pydata.org/pandas-docs/stable/indexing.html#indexing-view-versus-copy\n",
      "/usr/local/lib/python2.7/site-packages/ipykernel/__main__.py:40: SettingWithCopyWarning: \n",
      "A value is trying to be set on a copy of a slice from a DataFrame.\n",
      "Try using .loc[row_indexer,col_indexer] = value instead\n",
      "\n",
      "See the caveats in the documentation: http://pandas.pydata.org/pandas-docs/stable/indexing.html#indexing-view-versus-copy\n"
     ]
    }
   ],
   "source": [
    "import numpy\n",
    "import pandas\n",
    "import statsmodels.formula.api as smf\n",
    "import statsmodels.stats.multicomp as multi \n",
    "\n",
    "data = pandas.read_csv('nesarc_pds.csv', low_memory=False)\n",
    "\n",
    "# S2AQ8A - HOW OFTEN DRANK ANY ALCOHOL IN LAST 12 MONTHS (99 - Unknown)\n",
    "# S2AQ8B - NUMBER OF DRINKS OF ANY ALCOHOL USUALLY CONSUMED ON DAYS WHEN DRANK ALCOHOL IN LAST 12 MONTHS (99 - Unknown)\n",
    "# S2AQ3 - DRANK AT LEAST 1 ALCOHOLIC DRINK IN LAST 12 MONTHS\n",
    "\n",
    "#setting variables you will be working with to numeric\n",
    "data['S2AQ8A'] = data['S2AQ8A'].convert_objects(convert_numeric=True)\n",
    "data['S2AQ8B'] = data['S2AQ8B'].convert_objects(convert_numeric=True)\n",
    "data['S2AQ3'] = data['S2AQ3'].convert_objects(convert_numeric=True)\n",
    "\n",
    "#subset data to young adults age 18 to 27 who have drank alcohol in the past 12 months\n",
    "subset=data[(data['AGE']>=19) & (data['AGE']<=34) & (data['S2AQ3']==1)]\n",
    "\n",
    "subset['S2AQ8A']=subset['S2AQ8A'].replace(99, numpy.nan)\n",
    "subset['S3BD4Q2DR']=subset['S3BD4Q2DR'].replace(99, numpy.nan)\n",
    "\n",
    "alcohol_usage_map = {\n",
    "    1: 365,\n",
    "    2: 330,\n",
    "    3: 182,\n",
    "    4: 104,\n",
    "    5: 52,\n",
    "    6: 30,\n",
    "    7: 12,\n",
    "    8: 9,\n",
    "    9: 5,\n",
    "    10: 2,\n",
    "}\n",
    "\n",
    "subset['ALCO_FREQMO'] = subset['S2AQ8A'].map(alcohol_usage_map)\n",
    "\n",
    "#converting new variable ALCO_FREQMO to numeric\n",
    "subset['ALCO_FREQMO'] = subset['ALCO_FREQMO'].convert_objects(convert_numeric=True)\n",
    "subset['ALCO_NUM_EST'] = subset['ALCO_FREQMO'] * subset['S2AQ8B']\n",
    "\n",
    "\n",
    "ct1 = subset.groupby('ALCO_NUM_EST').size()\n",
    "subset_race = subset[['ALCO_NUM_EST', 'ETHRACE2A']].dropna()\n"
   ]
  },
  {
   "cell_type": "markdown",
   "metadata": {},
   "source": [
    "Then OLS regression test is run"
   ]
  },
  {
   "cell_type": "code",
   "execution_count": 6,
   "metadata": {
    "collapsed": false
   },
   "outputs": [
    {
     "name": "stdout",
     "output_type": "stream",
     "text": [
      "                            OLS Regression Results                            \n",
      "==============================================================================\n",
      "Dep. Variable:           ALCO_NUM_EST   R-squared:                       0.001\n",
      "Model:                            OLS   Adj. R-squared:                  0.001\n",
      "Method:                 Least Squares   F-statistic:                     2.489\n",
      "Date:                Sat, 27 Feb 2016   Prob (F-statistic):             0.0413\n",
      "Time:                        22:01:31   Log-Likelihood:                -75816.\n",
      "No. Observations:                8797   AIC:                         1.516e+05\n",
      "Df Residuals:                    8792   BIC:                         1.517e+05\n",
      "Df Model:                           4                                         \n",
      "Covariance Type:            nonrobust                                         \n",
      "=====================================================================================\n",
      "                        coef    std err          t      P>|t|      [95.0% Conf. Int.]\n",
      "-------------------------------------------------------------------------------------\n",
      "Intercept           354.6143     19.439     18.243      0.000       316.510   392.719\n",
      "C(ETHRACE2A)[T.2]   -20.5087     39.805     -0.515      0.606       -98.536    57.519\n",
      "C(ETHRACE2A)[T.3]    86.8109    120.399      0.721      0.471      -149.199   322.821\n",
      "C(ETHRACE2A)[T.4]  -149.7788     78.497     -1.908      0.056      -303.651     4.093\n",
      "C(ETHRACE2A)[T.5]   -88.4542     34.929     -2.532      0.011      -156.923   -19.985\n",
      "==============================================================================\n",
      "Omnibus:                    18608.088   Durbin-Watson:                   1.958\n",
      "Prob(Omnibus):                  0.000   Jarque-Bera (JB):         68158886.865\n",
      "Skew:                          18.547   Prob(JB):                         0.00\n",
      "Kurtosis:                     432.622   Cond. No.                         8.86\n",
      "==============================================================================\n",
      "\n",
      "Warnings:\n",
      "[1] Standard Errors assume that the covariance matrix of the errors is correctly specified.\n"
     ]
    }
   ],
   "source": [
    "# using ols function for calculating the F-statistic and associated p value\n",
    "model1 = smf.ols(formula='ALCO_NUM_EST ~ C(ETHRACE2A)', data=subset_race)\n",
    "results1 = model1.fit()\n",
    "\n",
    "print (results1.summary())"
   ]
  },
  {
   "cell_type": "markdown",
   "metadata": {},
   "source": [
    "And as Prob (F-statistics) is less than 0.05, I can discard null hypothesis.\n",
    "\n",
    "Following block gives means and std deviations:"
   ]
  },
  {
   "cell_type": "code",
   "execution_count": 7,
   "metadata": {
    "collapsed": false
   },
   "outputs": [
    {
     "name": "stdout",
     "output_type": "stream",
     "text": [
      "means for ALCO_NUM_EST by race\n",
      "           ALCO_NUM_EST\n",
      "ETHRACE2A              \n",
      "1            354.614331\n",
      "2            334.105653\n",
      "3            441.425197\n",
      "4            204.835484\n",
      "5            266.160169\n",
      "standard dev for ALCO_NUM_EST by race\n",
      "           ALCO_NUM_EST\n",
      "ETHRACE2A              \n",
      "1           1419.794119\n",
      "2           1575.251108\n",
      "3           1054.538239\n",
      "4            520.285056\n",
      "5           1037.883732\n"
     ]
    }
   ],
   "source": [
    "print ('means for ALCO_NUM_EST by race')\n",
    "m2= subset_race.groupby('ETHRACE2A').mean()\n",
    "print (m2)\n",
    "\n",
    "print ('standard dev for ALCO_NUM_EST by race')\n",
    "sd2 = subset_race.groupby('ETHRACE2A').std()\n",
    "print (sd2)"
   ]
  },
  {
   "cell_type": "markdown",
   "metadata": {},
   "source": [
    "## Tukey's HSD post hoc test"
   ]
  },
  {
   "cell_type": "code",
   "execution_count": 11,
   "metadata": {
    "collapsed": false
   },
   "outputs": [
    {
     "name": "stdout",
     "output_type": "stream",
     "text": [
      "Multiple Comparison of Means - Tukey HSD,FWER=0.05\n",
      "=================================================\n",
      "group1 group2  meandiff   lower    upper   reject\n",
      "-------------------------------------------------\n",
      "  1      2     -20.5087 -129.1102 88.0928  False \n",
      "  1      3     86.8109  -241.6761 415.2978 False \n",
      "  1      4    -149.7788 -363.9426  64.385  False \n",
      "  1      5     -88.4542  -183.752  6.8437  False \n",
      "  2      3     107.3195 -230.4266 445.0657 False \n",
      "  2      4    -129.2702 -357.3818 98.8414  False \n",
      "  2      5     -67.9455 -191.4382 55.5472  False \n",
      "  3      4    -236.5897 -621.4849 148.3054 False \n",
      "  3      5     -175.265 -508.9712 158.4412 False \n",
      "  4      5     61.3247  -160.7616 283.4109 False \n",
      "-------------------------------------------------\n"
     ]
    }
   ],
   "source": [
    "mc1 = multi.MultiComparison(subset_race['ALCO_NUM_EST'], subset_race['ETHRACE2A'])\n",
    "res1 = mc1.tukeyhsd()\n",
    "print(res1.summary())"
   ]
  },
  {
   "cell_type": "markdown",
   "metadata": {},
   "source": [
    "We see that Tukey HSD didn’t give us verification that we can reject null hypothesis for any combination of two races, which is probably result of p vlaue being near the limit (4.13%)"
   ]
  },
  {
   "cell_type": "code",
   "execution_count": null,
   "metadata": {
    "collapsed": true
   },
   "outputs": [],
   "source": []
  }
 ],
 "metadata": {
  "celltoolbar": "Raw Cell Format",
  "kernelspec": {
   "display_name": "Python 2",
   "language": "python",
   "name": "python2"
  },
  "language_info": {
   "codemirror_mode": {
    "name": "ipython",
    "version": 2
   },
   "file_extension": ".py",
   "mimetype": "text/x-python",
   "name": "python",
   "nbconvert_exporter": "python",
   "pygments_lexer": "ipython2",
   "version": "2.7.11"
  }
 },
 "nbformat": 4,
 "nbformat_minor": 0
}
