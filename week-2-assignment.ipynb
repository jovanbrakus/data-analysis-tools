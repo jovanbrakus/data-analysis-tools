{
 "cells": [
  {
   "cell_type": "markdown",
   "metadata": {},
   "source": [
    "# Data analysis tools"
   ]
  },
  {
   "cell_type": "markdown",
   "metadata": {},
   "source": [
    "For Week 2 assignment I'm testing:\n",
    "\n",
    "Null hypothesis - there is no difference in beer consumption between people with/without major depression diagnosis\n",
    "Alternate hypothesis - there is difference in beer consumption between people with/without major depression diagnosis"
   ]
  },
  {
   "cell_type": "code",
   "execution_count": 1,
   "metadata": {
    "collapsed": false
   },
   "outputs": [],
   "source": [
    "import pandas\n",
    "import numpy\n",
    "import scipy.stats\n",
    "import seaborn\n",
    "import matplotlib.pyplot as plt\n",
    "\n",
    "data = pandas.read_csv('nesarc_pds.csv', low_memory=False)\n",
    "\n",
    "# MAJORDEPLIFE - Diagnosed major depressions in lifetime\n",
    "# S2AQ5A - Drink beer in last 12 months\n",
    "# S2AQ5B - How often drank a beer in last year\n",
    "\n",
    "data['MAJORDEPLIFE'] = pandas.to_numeric(data['TAB12MDX'], errors='coerce')\n",
    "data['S2AQ5A'] = pandas.to_numeric(data['S2AQ5A'], errors='coerce')\n",
    "data['S2AQ5B'] = pandas.to_numeric(data['S2AQ5B'], errors='coerce')\n",
    "data['AGE'] = pandas.to_numeric(data['AGE'], errors='coerce')\n",
    "\n"
   ]
  },
  {
   "cell_type": "markdown",
   "metadata": {},
   "source": [
    "Following block prepares data we will use and prints contingency table with number of people we have within each category:"
   ]
  },
  {
   "cell_type": "code",
   "execution_count": 2,
   "metadata": {
    "collapsed": false
   },
   "outputs": [
    {
     "name": "stdout",
     "output_type": "stream",
     "text": [
      "S2AQ5B        1   2    3    4    5    6    7    8    9    10\n",
      "MAJORDEPLIFE                                                \n",
      "0             41  48  157  271  325  355  289  130  228  312\n",
      "1             34  31   86  128  107  116   66   28   57   49\n"
     ]
    }
   ],
   "source": [
    "#subset data to young adults age 18 to 25 who have drinked beer in the past 12 months\n",
    "sub1=data[(data['AGE']>=18) & (data['AGE']<=25) & (data['S2AQ5A']==1)]\n",
    "sub2 = sub1.copy()\n",
    "\n",
    "# recode missing values to python missing (NaN)\n",
    "sub2['S2AQ5B']=sub2['S2AQ5B'].replace(99, numpy.nan)\n",
    "\n",
    "# contingency table of observed counts\n",
    "ct1=pandas.crosstab(sub2['MAJORDEPLIFE'], sub2['S2AQ5B'])\n",
    "print (ct1)"
   ]
  },
  {
   "cell_type": "markdown",
   "metadata": {},
   "source": [
    "Next block prints the same contingency table but in percentages instead of absolute values:"
   ]
  },
  {
   "cell_type": "code",
   "execution_count": 5,
   "metadata": {
    "collapsed": false
   },
   "outputs": [
    {
     "name": "stdout",
     "output_type": "stream",
     "text": [
      "S2AQ5B              1         2         3         4         5         6   \\\n",
      "MAJORDEPLIFE                                                               \n",
      "0             0.546667  0.607595  0.646091  0.679198  0.752315  0.753715   \n",
      "1             0.453333  0.392405  0.353909  0.320802  0.247685  0.246285   \n",
      "\n",
      "S2AQ5B              7         8    9         10  \n",
      "MAJORDEPLIFE                                     \n",
      "0             0.814085  0.822785  0.8  0.864266  \n",
      "1             0.185915  0.177215  0.2  0.135734  \n"
     ]
    }
   ],
   "source": [
    "# column percentages\n",
    "colsum=ct1.sum(axis=0)\n",
    "colpct=ct1/colsum\n",
    "print(colpct)"
   ]
  },
  {
   "cell_type": "markdown",
   "metadata": {},
   "source": [
    "## Chi-square test"
   ]
  },
  {
   "cell_type": "code",
   "execution_count": 10,
   "metadata": {
    "collapsed": false
   },
   "outputs": [
    {
     "name": "stdout",
     "output_type": "stream",
     "text": [
      "Chi-square value:  91.7559212919\n",
      "p value:  7.22908728572e-16\n",
      "Expected counts: [[  56.57802659   59.59552134  183.31280616  300.99510147  325.88943317\n",
      "   355.310007    267.8026592   119.19104269  214.99650105  272.32890133]\n",
      " [  18.42197341   19.40447866   59.68719384   98.00489853  106.11056683\n",
      "   115.689993     87.1973408    38.80895731   70.00349895   88.67109867]]\n"
     ]
    }
   ],
   "source": [
    "# chi-square test\n",
    "cs1= scipy.stats.chi2_contingency(ct1)\n",
    "print 'Chi-square value: ', cs1[0]\n",
    "print 'p value: ', cs1[1]\n",
    "print 'Expected counts:', cs1[3]"
   ]
  },
  {
   "cell_type": "markdown",
   "metadata": {},
   "source": [
    "Test value is significant, p value is much smaller than 0.05, so we can reject null hypothesis and accept alternate one."
   ]
  },
  {
   "cell_type": "markdown",
   "metadata": {},
   "source": [
    "## Bonferroni adjusted p - post-hoc test"
   ]
  },
  {
   "cell_type": "code",
   "execution_count": 14,
   "metadata": {
    "collapsed": false
   },
   "outputs": [
    {
     "name": "stdout",
     "output_type": "stream",
     "text": [
      "adjusted p value:  0.00111111111111\n"
     ]
    }
   ],
   "source": [
    "bp_adjusted = 0.05 / 45\n",
    "print 'adjusted p value: ', bp_adjusted"
   ]
  },
  {
   "cell_type": "markdown",
   "metadata": {},
   "source": [
    "Chi-square test p value is still smaller than bonferroni adjusted p value. This test indicated we were right to reject null hypothesis."
   ]
  },
  {
   "cell_type": "markdown",
   "metadata": {},
   "source": [
    "## Individual category pairs post-hoc test"
   ]
  },
  {
   "cell_type": "code",
   "execution_count": 21,
   "metadata": {
    "collapsed": false
   },
   "outputs": [
    {
     "name": "stdout",
     "output_type": "stream",
     "text": [
      "Category1: 1 Category2: 2 P-value: 0.547186731823 Rejected: False\n",
      "Category1: 1 Category2: 3 P-value: 0.156616903798 Rejected: False\n",
      "Category1: 1 Category2: 4 P-value: 0.0368415781231 Rejected: True\n",
      "Category1: 1 Category2: 5 P-value: 0.000416443651544 Rejected: True\n",
      "Category1: 1 Category2: 6 P-value: 0.000328566460663 Rejected: True\n",
      "Category1: 1 Category2: 7 P-value: 1.36159833394e-06 Rejected: True\n",
      "Category1: 1 Category2: 8 P-value: 1.72911221141e-05 Rejected: True\n",
      "Category1: 1 Category2: 9 P-value: 1.41010285511e-05 Rejected: True\n",
      "Category1: 1 Category2: 10 P-value: 5.18542935195e-10 Rejected: True\n",
      "Category1: 2 Category2: 3 P-value: 0.628841311934 Rejected: False\n",
      "Category1: 2 Category2: 4 P-value: 0.269844416553 Rejected: False\n",
      "Category1: 2 Category2: 5 P-value: 0.0115372823375 Rejected: True\n",
      "Category1: 2 Category2: 6 P-value: 0.00992353822001 Rejected: True\n",
      "Category1: 2 Category2: 7 P-value: 0.000125483472413 Rejected: True\n",
      "Category1: 2 Category2: 8 P-value: 0.000555862101885 Rejected: True\n",
      "Category1: 2 Category2: 9 P-value: 0.000709597273352 Rejected: True\n",
      "Category1: 2 Category2: 10 P-value: 2.02940227136e-07 Rejected: True\n",
      "Category1: 3 Category2: 4 P-value: 0.4372899875 Rejected: False\n",
      "Category1: 3 Category2: 5 P-value: 0.00446964612246 Rejected: True\n",
      "Category1: 3 Category2: 6 P-value: 0.0033076578016 Rejected: True\n",
      "Category1: 3 Category2: 7 P-value: 5.66391841695e-06 Rejected: True\n",
      "Category1: 3 Category2: 8 P-value: 0.000199486220784 Rejected: True\n",
      "Category1: 3 Category2: 9 P-value: 0.000109607355374 Rejected: True\n",
      "Category1: 3 Category2: 10 P-value: 5.23681988891e-10 Rejected: True\n",
      "Category1: 4 Category2: 5 P-value: 0.0237498460441 Rejected: True\n",
      "Category1: 4 Category2: 6 P-value: 0.0181636872504 Rejected: True\n",
      "Category1: 4 Category2: 7 P-value: 3.38679931987e-05 Rejected: True\n",
      "Category1: 4 Category2: 8 P-value: 0.00097638863584 Rejected: True\n",
      "Category1: 4 Category2: 9 P-value: 0.000628032752038 Rejected: True\n",
      "Category1: 4 Category2: 10 P-value: 2.81824803258e-09 Rejected: True\n",
      "Category1: 5 Category2: 6 P-value: 0.977276237751 Rejected: False\n",
      "Category1: 5 Category2: 7 P-value: 0.0459712143641 Rejected: True\n",
      "Category1: 5 Category2: 8 P-value: 0.0903191359526 Rejected: False\n",
      "Category1: 5 Category2: 9 P-value: 0.162449381314 Rejected: False\n",
      "Category1: 5 Category2: 10 P-value: 0.000113533666137 Rejected: True\n",
      "Category1: 6 Category2: 7 P-value: 0.0468670925646 Rejected: True\n",
      "Category1: 6 Category2: 8 P-value: 0.0932079333443 Rejected: False\n",
      "Category1: 6 Category2: 9 P-value: 0.167946370294 Rejected: False\n",
      "Category1: 6 Category2: 10 P-value: 0.000106273018234 Rejected: True\n",
      "Category1: 7 Category2: 8 P-value: 0.911174832533 Rejected: False\n",
      "Category1: 7 Category2: 9 P-value: 0.727455646198 Rejected: False\n",
      "Category1: 7 Category2: 10 P-value: 0.0842294361331 Rejected: False\n",
      "Category1: 8 Category2: 9 P-value: 0.647361007788 Rejected: False\n",
      "Category1: 8 Category2: 10 P-value: 0.276066950601 Rejected: False\n",
      "Category1: 9 Category2: 10 P-value: 0.0372587697866 Rejected: True\n"
     ]
    }
   ],
   "source": [
    "for idx1 in range(1,11):\n",
    "    for idx2 in range (idx1+1, 11):\n",
    "        map_filter = {idx1:idx1, idx2:idx2}\n",
    "        sub2['COMP1v2']= sub2['S2AQ5B'].map(map_filter)\n",
    "\n",
    "        # contingency table of observed counts\n",
    "        ct2 = pandas.crosstab(sub2['MAJORDEPLIFE'], sub2['COMP1v2'])\n",
    "        # chi-square test\n",
    "        cs2 = scipy.stats.chi2_contingency(ct2)\n",
    "        print 'Category1:', idx1, 'Category2:',idx2, 'P-value:',cs2[1],'Rejected:', cs2[1]<0.05\n",
    "    \n",
    "    \n",
    "    "
   ]
  },
  {
   "cell_type": "markdown",
   "metadata": {
    "collapsed": true
   },
   "source": [
    "Here we picked all pair combinations and got the pairs for which null hypothesis can be rejected, and also ones for which we cannot reject it."
   ]
  },
  {
   "cell_type": "code",
   "execution_count": null,
   "metadata": {
    "collapsed": true
   },
   "outputs": [],
   "source": []
  }
 ],
 "metadata": {
  "kernelspec": {
   "display_name": "Python 2",
   "language": "python",
   "name": "python2"
  },
  "language_info": {
   "codemirror_mode": {
    "name": "ipython",
    "version": 2
   },
   "file_extension": ".py",
   "mimetype": "text/x-python",
   "name": "python",
   "nbconvert_exporter": "python",
   "pygments_lexer": "ipython2",
   "version": "2.7.11"
  }
 },
 "nbformat": 4,
 "nbformat_minor": 0
}
