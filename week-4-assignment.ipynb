{
 "cells": [
  {
   "cell_type": "markdown",
   "metadata": {},
   "source": [
    "# Data analysis tools"
   ]
  },
  {
   "cell_type": "markdown",
   "metadata": {},
   "source": [
    "For Week 4 assignment I'm testing if gender affects either strength or the dirrection of the relationship between beer consumption and the fact the person had or not major depression diagnosis."
   ]
  },
  {
   "cell_type": "code",
   "execution_count": 1,
   "metadata": {
    "collapsed": false
   },
   "outputs": [],
   "source": [
    "import pandas\n",
    "import numpy\n",
    "import scipy.stats\n",
    "import seaborn\n",
    "import matplotlib.pyplot as plt\n",
    "\n",
    "data = pandas.read_csv('nesarc_pds.csv', low_memory=False)\n",
    "\n",
    "# MAJORDEPLIFE - Diagnosed major depressions in lifetime\n",
    "# S2AQ5A - Drink beer in last 12 months\n",
    "# S2AQ5B - How often drank a beer in last year\n",
    "\n",
    "data['MAJORDEPLIFE'] = pandas.to_numeric(data['TAB12MDX'], errors='coerce')\n",
    "data['S2AQ5A'] = pandas.to_numeric(data['S2AQ5A'], errors='coerce')\n",
    "data['S2AQ5B'] = pandas.to_numeric(data['S2AQ5B'], errors='coerce')\n",
    "data['AGE'] = pandas.to_numeric(data['AGE'], errors='coerce')\n",
    "\n"
   ]
  },
  {
   "cell_type": "markdown",
   "metadata": {},
   "source": [
    "Following block prepares data we will use and prints contingency table with number of people we have within each category:"
   ]
  },
  {
   "cell_type": "code",
   "execution_count": 2,
   "metadata": {
    "collapsed": false
   },
   "outputs": [
    {
     "name": "stdout",
     "output_type": "stream",
     "text": [
      "S2AQ5B        1   2    3    4    5    6    7    8    9    10\n",
      "MAJORDEPLIFE                                                \n",
      "0             41  48  157  271  325  355  289  130  228  312\n",
      "1             34  31   86  128  107  116   66   28   57   49\n"
     ]
    }
   ],
   "source": [
    "#subset data to young adults age 18 to 25 who have drinked beer in the past 12 months\n",
    "sub1=data[(data['AGE']>=18) & (data['AGE']<=25) & (data['S2AQ5A']==1)]\n",
    "sub2 = sub1.copy()\n",
    "\n",
    "# recode missing values to python missing (NaN)\n",
    "sub2['S2AQ5B']=sub2['S2AQ5B'].replace(99, numpy.nan)\n",
    "\n",
    "# contingency table of observed counts\n",
    "ct1=pandas.crosstab(sub2['MAJORDEPLIFE'], sub2['S2AQ5B'])\n",
    "print (ct1)"
   ]
  },
  {
   "cell_type": "markdown",
   "metadata": {},
   "source": [
    "Next block prints the same contingency table but in percentages instead of absolute values:"
   ]
  },
  {
   "cell_type": "code",
   "execution_count": 3,
   "metadata": {
    "collapsed": false
   },
   "outputs": [
    {
     "name": "stdout",
     "output_type": "stream",
     "text": [
      "S2AQ5B              1         2         3         4         5         6   \\\n",
      "MAJORDEPLIFE                                                               \n",
      "0             0.546667  0.607595  0.646091  0.679198  0.752315  0.753715   \n",
      "1             0.453333  0.392405  0.353909  0.320802  0.247685  0.246285   \n",
      "\n",
      "S2AQ5B              7         8    9         10  \n",
      "MAJORDEPLIFE                                     \n",
      "0             0.814085  0.822785  0.8  0.864266  \n",
      "1             0.185915  0.177215  0.2  0.135734  \n"
     ]
    }
   ],
   "source": [
    "# column percentages\n",
    "colsum=ct1.sum(axis=0)\n",
    "colpct=ct1/colsum\n",
    "print(colpct)"
   ]
  },
  {
   "cell_type": "markdown",
   "metadata": {},
   "source": [
    "Now we split test dataset into two subgroups based on Gender moderator"
   ]
  },
  {
   "cell_type": "code",
   "execution_count": 4,
   "metadata": {
    "collapsed": false
   },
   "outputs": [
    {
     "name": "stdout",
     "output_type": "stream",
     "text": [
      "Contingency tables in absolute and percentage values for MALE subset\n",
      "S2AQ5B        1   2    3    4    5    6    7   8    9    10\n",
      "MAJORDEPLIFE                                               \n",
      "0             36  42  117  188  201  215  165  66  111  148\n",
      "1             27  24   58   82   68   61   34  13   20   17\n",
      "S2AQ5B              1         2         3         4         5         6   \\\n",
      "MAJORDEPLIFE                                                               \n",
      "0             0.571429  0.636364  0.668571  0.696296  0.747212  0.778986   \n",
      "1             0.428571  0.363636  0.331429  0.303704  0.252788  0.221014   \n",
      "\n",
      "S2AQ5B              7         8         9        10  \n",
      "MAJORDEPLIFE                                         \n",
      "0             0.829146  0.835443  0.847328  0.89697  \n",
      "1             0.170854  0.164557  0.152672  0.10303  \n",
      "Contingency tables in absolute and percentage values for FEMALE subset\n",
      "S2AQ5B        1   2   3   4    5    6    7   8    9    10\n",
      "MAJORDEPLIFE                                             \n",
      "0              5   6  40  83  124  140  124  64  117  164\n",
      "1              7   7  28  46   39   55   32  15   37   32\n",
      "S2AQ5B              1         2         3         4         5         6   \\\n",
      "MAJORDEPLIFE                                                               \n",
      "0             0.416667  0.461538  0.588235  0.643411  0.760736  0.717949   \n",
      "1             0.583333  0.538462  0.411765  0.356589  0.239264  0.282051   \n",
      "\n",
      "S2AQ5B              7         8        9         10  \n",
      "MAJORDEPLIFE                                         \n",
      "0             0.794872  0.810127  0.75974  0.836735  \n",
      "1             0.205128  0.189873  0.24026  0.163265  \n"
     ]
    }
   ],
   "source": [
    "sub3 = sub2[(sub2['SEX'] == 1)] # Males only\n",
    "sub4 = sub2[(sub2['SEX'] == 2)] # Females only\n",
    "\n",
    "print 'Contingency tables in absolute and percentage values for MALE subset'\n",
    "ct2 = pandas.crosstab(sub2['MAJORDEPLIFE'], sub3['S2AQ5B'])\n",
    "print (ct2)\n",
    "\n",
    "# column percentages\n",
    "colsum2 = ct2.sum(axis=0)\n",
    "colpct2 = ct2/colsum2\n",
    "print(colpct2)\n",
    "\n",
    "print 'Contingency tables in absolute and percentage values for FEMALE subset'\n",
    "ct3 = pandas.crosstab(sub2['MAJORDEPLIFE'], sub4['S2AQ5B'])\n",
    "print (ct3)\n",
    "\n",
    "# column percentages\n",
    "colsum3 = ct3.sum(axis=0)\n",
    "colpct3 = ct3/colsum3\n",
    "print(colpct3)"
   ]
  },
  {
   "cell_type": "markdown",
   "metadata": {},
   "source": [
    "## Chi-square tests for both subgroups"
   ]
  },
  {
   "cell_type": "code",
   "execution_count": 5,
   "metadata": {
    "collapsed": false
   },
   "outputs": [
    {
     "name": "stdout",
     "output_type": "stream",
     "text": [
      "[Males dataset] Chi-square value:  62.9857170406\n",
      "[Males dataset] p value:  3.55051057886e-10\n",
      "[Males dataset] Expected counts: [[  47.96633196   50.250443    133.23981099  205.56999409  204.80862374\n",
      "   210.13821618  151.51269935   60.14825753   99.73951565  125.6261075 ]\n",
      " [  15.03366804   15.749557     41.76018901   64.43000591   64.19137626\n",
      "    65.86178382   47.48730065   18.85174247   31.26048435   39.3738925 ]]\n",
      "[Females dataset] Chi-square value:  41.6512786359\n",
      "[Females dataset] p value:  3.80571273777e-06\n",
      "[Females dataset] Expected counts: [[   8.9304721     9.67467811   50.60600858   96.00257511  121.3055794\n",
      "   145.12017167  116.09613734   58.79227468  114.60772532  145.86437768]\n",
      " [   3.0695279     3.32532189   17.39399142   32.99742489   41.6944206\n",
      "    49.87982833   39.90386266   20.20772532   39.39227468   50.13562232]]\n"
     ]
    }
   ],
   "source": [
    "# chi-square tests\n",
    "cs2 = scipy.stats.chi2_contingency(ct2)\n",
    "print '[Males dataset] Chi-square value: ', cs2[0]\n",
    "print '[Males dataset] p value: ', cs2[1]\n",
    "print '[Males dataset] Expected counts:', cs2[3]\n",
    "\n",
    "cs3 = scipy.stats.chi2_contingency(ct3)\n",
    "print '[Females dataset] Chi-square value: ', cs3[0]\n",
    "print '[Females dataset] p value: ', cs3[1]\n",
    "print '[Females dataset] Expected counts:', cs3[3]"
   ]
  },
  {
   "cell_type": "markdown",
   "metadata": {},
   "source": [
    "Both chi-square test values are significant and p value in both tests are much smaller then 0,05."
   ]
  },
  {
   "cell_type": "markdown",
   "metadata": {},
   "source": [
    "Relationship between beer consumption and major depression diagnosis is similar for both male and female groups. Still chi-square test value is more significant for Male subgroup. That said, we can say that gender does not moderate relationship between  beer consumption and major depression diagnosis."
   ]
  }
 ],
 "metadata": {
  "kernelspec": {
   "display_name": "Python 2",
   "language": "python",
   "name": "python2"
  },
  "language_info": {
   "codemirror_mode": {
    "name": "ipython",
    "version": 2
   },
   "file_extension": ".py",
   "mimetype": "text/x-python",
   "name": "python",
   "nbconvert_exporter": "python",
   "pygments_lexer": "ipython2",
   "version": "2.7.11"
  }
 },
 "nbformat": 4,
 "nbformat_minor": 0
}
